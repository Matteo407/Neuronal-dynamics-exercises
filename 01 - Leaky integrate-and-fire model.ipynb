{
 "cells": [
  {
   "cell_type": "code",
   "execution_count": 1,
   "id": "4d79fc2c",
   "metadata": {},
   "outputs": [],
   "source": [
    "import numpy as np\n",
    "import matplotlib.pyplot as plt\n",
    "\n",
    "import logging\n",
    "logging.getLogger('matplotlib.font_manager').disabled = True\n",
    "\n",
    "import ipywidgets as widgets  # interactive display\n",
    "%config InlineBackend.figure_format = 'retina'\n",
    "# use NMA plot style\n",
    "plt.style.use(\"https://raw.githubusercontent.com/NeuromatchAcademy/course-content/main/nma.mplstyle\")\n",
    "my_layout = widgets.Layout()"
   ]
  },
  {
   "cell_type": "markdown",
   "id": "28baf742",
   "metadata": {},
   "source": [
    "<h1 style=\"background-color:rgb(181 ,50 ,84);color:white;text-align:center\">Leaky Integrate-and-fire model</h1>\n",
    "\n",
    "Neuronal models where action potentials are described as events are called \"integrate-and-fire\" models. No attempt is made to describe the shape of an action potenital. They require two main components to define their dynamics:\n",
    "- a linear differential equation to describe the evolution of the membrane potential;\n",
    "- a threshold for spike firing\n",
    "\n",
    "The cell membrane acts as a capacitor of capacity $C$ and is characterized by a finite leak resistance $R$. The membrane potential $u$ varies depending of the input current $I$ following: $$\\tau\\frac{du}{dt}=-[u(t)-u_{rest}]+RI(t)$$ where $\\tau=RC$ and $u_{rest}$ represents the resting membrane potential."
   ]
  },
  {
   "cell_type": "code",
   "execution_count": 2,
   "id": "c30b2b7e",
   "metadata": {},
   "outputs": [],
   "source": [
    "# typical neuron parameters#\n",
    "theta = -55.    # spike threshold [mV]\n",
    "u_rest = -75.   # reset potential [mV]\n",
    "tau_m = 10.     # membrane time constant [ms]\n",
    "g_L = 10.       # leak conductance [nS]\n",
    "u0 = -75.       # initial potential [mV]\n",
    "\n",
    "# Simulation parameters \n",
    "T = 400.  # Total duration of simulation [ms]\n",
    "dt = .1   # Simulation time step [ms]\n",
    "\n",
    "# Time vector\n",
    "t = np.arange(0, T+dt, dt)"
   ]
  },
  {
   "cell_type": "code",
   "execution_count": 3,
   "id": "4a477a37",
   "metadata": {},
   "outputs": [],
   "source": [
    "class LIF():\n",
    "    def __init__(self, u_rest, tau, R, theta):\n",
    "        self.u_rest = u_rest\n",
    "        self.tau = tau\n",
    "        self.R = R\n",
    "        self.theta = theta\n",
    "\n",
    "    def u_dot(self, t, u, i):\n",
    "        return (self.u_rest - u + self.R*i) / self.tau\n",
    "\n",
    "    def simulate(self, t_range, dt, I):\n",
    "        u = self.u_rest\n",
    "        u_t = [u]\n",
    "        rec_spikes = []\n",
    "\n",
    "        forward_Euler = lambda i, y: y + dt*self.u_dot(t_range[i-1], y, I[i-1])\n",
    "\n",
    "        for i in range(1, len(t_range)):\n",
    "            if u >= self.theta:\n",
    "                u = self.u_rest\n",
    "                rec_spikes.append(t_range[i])\n",
    "            \n",
    "            u = forward_Euler(i, u)\n",
    "            u_t.append(u)\n",
    "\n",
    "        return u_t\n",
    "\n",
    "    def set_tau(self, tau):\n",
    "        self.tau = tau\n",
    "\n",
    "    def print_params(self):\n",
    "        print(\"u_rest: \", self.u_rest)\n",
    "        print(\"tau: \", self.tau)\n",
    "        print(\"R: \", self.R)\n",
    "        print(\"theta: \", self.theta)\n",
    "\n",
    "\n",
    "def plot_state(t, I, u_t):\n",
    "    fig, ax = plt.subplots(1, 2, figsize=(12, 4))\n",
    "\n",
    "    ax[0].plot(t, I, label='Input Current')\n",
    "    ax[0].set_ylabel('I (nA)')\n",
    "    ax[0].set_xlabel('Time (ms)')\n",
    "    ax[0].legend()\n",
    "\n",
    "    ax[1].plot(t, u_t, label='Membrane Potential')\n",
    "    ax[1].axhline(theta, color='r', linestyle='--', label='Threshold')\n",
    "    ax[1].set_ylabel('u (mV)')\n",
    "    ax[1].set_xlabel('Time (ms)')\n",
    "    ax[1].legend()\n",
    "\n",
    "    plt.show()"
   ]
  },
  {
   "cell_type": "code",
   "execution_count": 4,
   "id": "f06f3ad0",
   "metadata": {},
   "outputs": [],
   "source": [
    "def run_interactive_simulation(input_current, tau_m, g_L, u_rest, theta):\n",
    "    lif_neuron = LIF(u_rest, tau_m, 1/g_L, theta)\n",
    "     \n",
    "    @widgets.interact(\n",
    "        I_amp = widgets.FloatSlider(50., min=0., max=300., step=5., layout=my_layout),\n",
    "        tau_m = widgets.FloatSlider(25., min=2., max=50., step=2., layout=my_layout)\n",
    "    )\n",
    "\n",
    "    def diff_DC(I_amp=200., tau_m=10.):\n",
    "        # Change parameters\n",
    "        lif_neuron.set_tau(tau_m)\n",
    "        I = input_current(t, I_amp)\n",
    "\n",
    "        # Simulation\n",
    "        u_t = lif_neuron.simulate(t, dt, I)\n",
    "\n",
    "        # Plot\n",
    "        with plt.xkcd():\n",
    "            plot_state(t, I, u_t)"
   ]
  },
  {
   "cell_type": "code",
   "execution_count": 5,
   "id": "4b9ef661",
   "metadata": {},
   "outputs": [
    {
     "data": {
      "application/vnd.jupyter.widget-view+json": {
       "model_id": "3fb2b26eacaa4216a7873ff24242e4fb",
       "version_major": 2,
       "version_minor": 0
      },
      "text/plain": [
       "interactive(children=(FloatSlider(value=50.0, description='I_amp', max=300.0, step=5.0), FloatSlider(value=25.…"
      ]
     },
     "metadata": {},
     "output_type": "display_data"
    }
   ],
   "source": [
    "### DC input simulation\n",
    "\n",
    "# Input current\n",
    "def input_current_dc(t, I_amp):\n",
    "    I = np.zeros_like(t)\n",
    "    I[int(100/dt):int(300/dt)] = 2*I_amp  # Input current [nA]\n",
    "    return I\n",
    "\n",
    "run_interactive_simulation(input_current_dc, tau_m, g_L, u_rest, theta)"
   ]
  },
  {
   "cell_type": "code",
   "execution_count": 24,
   "id": "c6a02f24",
   "metadata": {},
   "outputs": [
    {
     "data": {
      "application/vnd.jupyter.widget-view+json": {
       "model_id": "80406b8936f248ea844093ffa39afa85",
       "version_major": 2,
       "version_minor": 0
      },
      "text/plain": [
       "interactive(children=(FloatSlider(value=50.0, description='I_amp', max=300.0, step=5.0), FloatSlider(value=25.…"
      ]
     },
     "metadata": {},
     "output_type": "display_data"
    }
   ],
   "source": [
    "def input_current_sin(t, I_amp):\n",
    "    I = 2*I_amp + 2 * I_amp * np.sin(2*np.pi*t/100)\n",
    "    return I\n",
    "\n",
    "run_interactive_simulation(input_current_sin, tau_m, g_L, u_rest, theta)"
   ]
  },
  {
   "cell_type": "code",
   "execution_count": 26,
   "id": "592f52b3",
   "metadata": {},
   "outputs": [
    {
     "data": {
      "application/vnd.jupyter.widget-view+json": {
       "model_id": "512df8a69311461ba8b64ac99541fa5f",
       "version_major": 2,
       "version_minor": 0
      },
      "text/plain": [
       "interactive(children=(FloatSlider(value=50.0, description='I_amp', max=300.0, step=5.0), FloatSlider(value=25.…"
      ]
     },
     "metadata": {},
     "output_type": "display_data"
    }
   ],
   "source": [
    "def input_current_ramp(t, I_amp):\n",
    "    I = I_amp + 0.1*t\n",
    "    return I\n",
    "\n",
    "run_interactive_simulation(input_current_ramp, tau_m, g_L, u_rest, theta)"
   ]
  },
  {
   "cell_type": "code",
   "execution_count": null,
   "id": "467e9e4c",
   "metadata": {},
   "outputs": [],
   "source": []
  },
  {
   "cell_type": "code",
   "execution_count": null,
   "id": "e7b6f3bc",
   "metadata": {},
   "outputs": [],
   "source": []
  },
  {
   "cell_type": "code",
   "execution_count": null,
   "id": "56d0bb05",
   "metadata": {},
   "outputs": [],
   "source": []
  },
  {
   "cell_type": "code",
   "execution_count": null,
   "id": "58da5ad2",
   "metadata": {},
   "outputs": [],
   "source": []
  }
 ],
 "metadata": {
  "kernelspec": {
   "display_name": "Python 3 (ipykernel)",
   "language": "python",
   "name": "python3"
  },
  "language_info": {
   "codemirror_mode": {
    "name": "ipython",
    "version": 3
   },
   "file_extension": ".py",
   "mimetype": "text/x-python",
   "name": "python",
   "nbconvert_exporter": "python",
   "pygments_lexer": "ipython3",
   "version": "3.9.7"
  },
  "varInspector": {
   "cols": {
    "lenName": 16,
    "lenType": 16,
    "lenVar": 40
   },
   "kernels_config": {
    "python": {
     "delete_cmd_postfix": "",
     "delete_cmd_prefix": "del ",
     "library": "var_list.py",
     "varRefreshCmd": "print(var_dic_list())"
    },
    "r": {
     "delete_cmd_postfix": ") ",
     "delete_cmd_prefix": "rm(",
     "library": "var_list.r",
     "varRefreshCmd": "cat(var_dic_list()) "
    }
   },
   "types_to_exclude": [
    "module",
    "function",
    "builtin_function_or_method",
    "instance",
    "_Feature"
   ],
   "window_display": false
  }
 },
 "nbformat": 4,
 "nbformat_minor": 5
}
