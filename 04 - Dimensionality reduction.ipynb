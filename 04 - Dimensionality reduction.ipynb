{
 "cells": [
  {
   "cell_type": "code",
   "execution_count": 3,
   "metadata": {},
   "outputs": [],
   "source": [
    "import numpy as np\n",
    "import matplotlib.pyplot as plt\n",
    "\n",
    "from manim import *\n",
    "green = \"#87c2a5\"\n",
    "blue = \"#525893\"\n",
    "red = \"#e07a5f\"\n",
    "black = \"#343434\"\n",
    "\n",
    "import logging\n",
    "logging.getLogger('matplotlib.font_manager').disabled = True\n",
    "\n",
    "import ipywidgets as widgets  # interactive display\n",
    "%config InlineBackend.figure_format = 'retina'\n",
    "# use NMA plot style\n",
    "plt.style.use(\"https://raw.githubusercontent.com/NeuromatchAcademy/course-content/main/nma.mplstyle\")\n",
    "my_layout = widgets.Layout()"
   ]
  },
  {
   "cell_type": "markdown",
   "metadata": {},
   "source": [
    "<h1 style=\"background-color:rgb(181 ,50 ,84);color:white;text-align:center\">Phase plane analysis</h1>\n",
    "\n",
    "##### Example: FitzHugh-Nagumo model\n",
    "The FitzHugh-Nagumo model is a two-dimensional system of ordinary differential equations that describes the dynamics of a neuron. The defining functions are:\n",
    "$$\\tau\\frac{\\partial u}{\\partial t}=F(u,w) + RI(t) = u-\\frac13 u^3-w + RI(t)$$ \n",
    "$$\\tau\\frac{\\partial w}{\\partial t}=G(u,w) = b_0 + b_1 u - w$$"
   ]
  },
  {
   "cell_type": "code",
   "execution_count": 40,
   "metadata": {},
   "outputs": [
    {
     "data": {
      "text/html": [
       "<pre style=\"white-space:pre;overflow-x:auto;line-height:normal;font-family:Menlo,'DejaVu Sans Mono',consolas,'Courier New',monospace\">Manim Community <span style=\"color: #008000; text-decoration-color: #008000\">v0.15.1</span>\n",
       "\n",
       "</pre>\n"
      ],
      "text/plain": [
       "Manim Community \u001b[32mv0.\u001b[0m\u001b[32m15.1\u001b[0m\n",
       "\n"
      ]
     },
     "metadata": {},
     "output_type": "display_data"
    },
    {
     "name": "stderr",
     "output_type": "stream",
     "text": [
      "                                                                                           \r"
     ]
    },
    {
     "data": {
      "text/html": [
       "<video src=\"media\\jupyter\\PhasePlane@2024-08-15@00-42-27.mp4\" controls autoplay loop style=\"max-width: 60%;\"  >\n",
       "      Your browser does not support the <code>video</code> element.\n",
       "    </video>"
      ],
      "text/plain": [
       "<IPython.core.display.Video object>"
      ]
     },
     "metadata": {},
     "output_type": "display_data"
    }
   ],
   "source": [
    "b0 = 2\n",
    "b1 = 2\n",
    "\n",
    "class PhasePlane(Scene):\n",
    "    def construct(self):\n",
    "        self.camera.background_color = \"#ece6e2\"\n",
    "\n",
    "        # Add vector field and nullclines\n",
    "        self.initiate_phase_plane()\n",
    "        \n",
    "        # Add a dot to represent the state of the system\n",
    "        self.dot = Dot(point=ORIGIN, color=BLUE_D, radius=.1)\n",
    "        self.play(FadeIn(self.dot))\n",
    "\n",
    "        # Add axes in the corner to plot the membrane voltage\n",
    "        self.add_small_axes()\n",
    "        \n",
    "        # Move the dot in the vector field\n",
    "        self.vector_field.nudge(self.dot, 0, 200)\n",
    "        self.dot.add_updater(self.vector_field.get_nudge_updater())\n",
    "\n",
    "        def update_plot(mob):\n",
    "            if self.x.shape[0] >= 100:\n",
    "                self.x = self.x[1:] - 0.05\n",
    "                self.y = self.y[1:]\n",
    "\n",
    "            self.x = np.append(self.x, self.x[-1] + 0.05)\n",
    "            self.y = np.append(self.y, self.dot.get_center()[0])\n",
    "\n",
    "            mob.become(\n",
    "                self.ax_small.plot_line_graph(self.x, self.y, add_vertex_dots = False, line_color = BLUE_D)\n",
    "            )\n",
    "            \n",
    "        self.u_plot.add_updater(update_plot)\n",
    "\n",
    "        self.wait(7)\n",
    "\n",
    "        # Clear updaters to start next scene\n",
    "        self.dot.clear_updaters()\n",
    "        self.u_plot.clear_updaters()\n",
    "        self.remove(self.dot)\n",
    "        self.remove(self.u_plot)\n",
    "\n",
    "        self.dot = Dot(point=[-1.30,-0.59,0], color=BLUE_D, radius=.1)\n",
    "        self.add(self.dot)\n",
    "        \n",
    "        self.x = np.array([0])\n",
    "        self.y = np.array([0])\n",
    "        self.u_plot = self.ax_small.plot_line_graph(self.x, self.y, add_vertex_dots = False, line_color = BLUE_D)\n",
    "        self.add(self.u_plot)\n",
    "\n",
    "        # Pulse input I(t) = q\\delta(t-t0) -> Delta u = q/C = qR/tau\n",
    "        self.play(self.dot.animate.shift(RIGHT))\n",
    "\n",
    "        self.dot.add_updater(self.vector_field.get_nudge_updater())\n",
    "        self.u_plot.add_updater(update_plot)\n",
    "     \n",
    "        self.wait(7)\n",
    "\n",
    "        # Clear updaters to start next scene\n",
    "        self.dot.clear_updaters()\n",
    "        self.u_plot.clear_updaters()\n",
    "        self.remove(self.dot)\n",
    "        self.remove(self.u_plot)\n",
    "\n",
    "        self.dot = Dot(point=[-1.30,-0.59,0], color=BLUE_D, radius=.1)\n",
    "        self.add(self.dot)\n",
    "        \n",
    "        self.x = np.array([0])\n",
    "        self.y = np.array([0])\n",
    "        self.u_plot = self.ax_small.plot_line_graph(self.x, self.y, add_vertex_dots = False, line_color = BLUE_D)\n",
    "        self.add(self.u_plot)\n",
    "\n",
    "        # Pulse input I(t) = q\\delta(t-t0) -> Delta u = q/C = qR/tau\n",
    "        self.play(self.dot.animate.shift(2.5*RIGHT))\n",
    "\n",
    "        self.dot.add_updater(self.vector_field.get_nudge_updater())\n",
    "        self.u_plot.add_updater(update_plot)\n",
    "     \n",
    "        self.wait(7)\n",
    "\n",
    "\n",
    "    def initiate_phase_plane(self):\n",
    "        #Fitzhugh-Nagumo model\n",
    "        func = lambda pos: np.array([pos[0] - 1/3*pos[0]**3 - pos[1], b0 + b1*pos[0] - pos[1], 0])\n",
    "\n",
    "        self.vector_field = ArrowVectorField(\n",
    "            func, min_color_scheme_value=1, max_color_scheme_value=20, x_range=[-7, 7, 1], y_range=[-4, 4, 1], opacity=0.7\n",
    "        )\n",
    "\n",
    "        ax = Axes(\n",
    "            x_range=[-7, 7, 1],\n",
    "            y_range=[-4, 4, 1],\n",
    "            tips=False,\n",
    "            axis_config = {\n",
    "                \"color\": black\n",
    "                }\n",
    "        )\n",
    "\n",
    "        self.vector_field.fit_to_coordinate_system(ax)\n",
    "\n",
    "        # Nullclines\n",
    "        graph1 = ax.plot(lambda x: x*1.25 - 1/3*x**3, x_range=[-7, 7], use_smoothing=False, color=RED)\n",
    "        graph2 = ax.plot(lambda x: b0 + (b1-0.15)*x, x_range=[-7, 7], use_smoothing=False, color=RED)\n",
    "\n",
    "        self.add(self.vector_field, ax, graph1, graph2)\n",
    "\n",
    "    def add_small_axes(self):\n",
    "        # Add little axes in the corner\n",
    "        self.ax_small = Axes(\n",
    "            x_range = [0, 5, 1],\n",
    "            y_range = [-2, 2, 1],\n",
    "            x_length = 8,\n",
    "            y_length = 5,\n",
    "            axis_config = {\n",
    "                \"color\": black,\n",
    "                \"include_tip\": False,\n",
    "                },\n",
    "        ).shift(UP*2 + RIGHT*4).scale(0.5)\n",
    "\n",
    "        self.play(FadeIn(self.ax_small))\n",
    "\n",
    "        self.x = np.array([0])\n",
    "        self.y = np.array([0])\n",
    "\n",
    "        self.u_plot = self.ax_small.plot_line_graph(self.x, self.y, add_vertex_dots = False, line_color = BLUE_D)\n",
    "\n",
    "        self.add(self.u_plot)\n",
    "        self.wait(1)\n",
    "\n",
    "# don't remove below command for run button to work\n",
    "%manim -qm -v ERROR PhasePlane"
   ]
  },
  {
   "cell_type": "code",
   "execution_count": null,
   "metadata": {},
   "outputs": [],
   "source": []
  },
  {
   "cell_type": "code",
   "execution_count": 38,
   "metadata": {},
   "outputs": [],
   "source": []
  },
  {
   "cell_type": "code",
   "execution_count": 39,
   "metadata": {},
   "outputs": [
    {
     "data": {
      "text/plain": [
       "array([0, 1])"
      ]
     },
     "execution_count": 39,
     "metadata": {},
     "output_type": "execute_result"
    }
   ],
   "source": []
  }
 ],
 "metadata": {
  "kernelspec": {
   "display_name": "base",
   "language": "python",
   "name": "python3"
  },
  "language_info": {
   "codemirror_mode": {
    "name": "ipython",
    "version": 3
   },
   "file_extension": ".py",
   "mimetype": "text/x-python",
   "name": "python",
   "nbconvert_exporter": "python",
   "pygments_lexer": "ipython3",
   "version": "3.9.7"
  }
 },
 "nbformat": 4,
 "nbformat_minor": 2
}
