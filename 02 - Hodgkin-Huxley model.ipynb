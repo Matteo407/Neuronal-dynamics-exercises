{
 "cells": [
  {
   "cell_type": "code",
   "execution_count": 1,
   "metadata": {},
   "outputs": [],
   "source": [
    "import numpy as np\n",
    "import matplotlib.pyplot as plt\n",
    "\n",
    "import logging\n",
    "logging.getLogger('matplotlib.font_manager').disabled = True\n",
    "\n",
    "import ipywidgets as widgets  # interactive display\n",
    "%config InlineBackend.figure_format = 'retina'\n",
    "# use NMA plot style\n",
    "plt.style.use(\"https://raw.githubusercontent.com/NeuromatchAcademy/course-content/main/nma.mplstyle\")\n",
    "my_layout = widgets.Layout()"
   ]
  },
  {
   "cell_type": "code",
   "execution_count": 2,
   "metadata": {},
   "outputs": [],
   "source": [
    "# typical neuron parameters#\n",
    "u_rest = -75.   # reset potential [mV]\n",
    "\n",
    "gmax_Na = 120.   # Average sodium channel conductance per unit area (mS/cm^2)\n",
    "gmax_K = 36.    # Average potassium channel conductance per unit area (mS/cm^2)\n",
    "gmax_L = 0.3    # Average leak channel conductance per unit area (mS/cm^2)\n",
    "Cm = 1.0        # Membrane capacitance per unit area (uF/cm^2)\n",
    "ENa = 55.       # Sodium potential (mV)\n",
    "EK = -77.       # Potassium potential (mV)\n",
    "El = -65.       # Leak potential (mV)\n",
    "\n",
    "# Simulation parameters \n",
    "T = 40.  # Total duration of simulation [ms]\n",
    "dt = .01   # Simulation time step [ms]\n",
    "\n",
    "# Time vector\n",
    "t = np.arange(0, T+dt, dt)"
   ]
  },
  {
   "cell_type": "code",
   "execution_count": 3,
   "metadata": {},
   "outputs": [],
   "source": [
    "class HH():\n",
    "    def __init__(self, u_rest=-68.5, gmax_Na=120, gmax_K=35, gmax_L=0.3, Cm=1.0, ENa=55, EK=-77, EL=-65):\n",
    "        self.u_rest = u_rest\n",
    "        self.gmax_Na = gmax_Na\n",
    "        self.gmax_K = gmax_K\n",
    "        self.gmax_L = gmax_L\n",
    "        self.ENa = ENa\n",
    "        self.EK = EK\n",
    "        self.EL = EL\n",
    "        self.Cm = Cm\n",
    "        self.tau = self.Cm / self.gmax_L\n",
    "\n",
    "    def alpha_m(self, u):\n",
    "        return 0.1*(u+40.0)/(1.0 - np.exp(-(u+40.0) / 10.0))\n",
    "\n",
    "    def beta_m(self, u):\n",
    "        return 4.0*np.exp(-(u+65.0) / 18.0)\n",
    "\n",
    "    def alpha_h(self, u):\n",
    "        return 0.07*np.exp(-(u+65.0) / 20.0)\n",
    "\n",
    "    def beta_h(self, u):\n",
    "        return 1.0/(1.0 + np.exp(-(u+35.0) / 10.0))\n",
    "\n",
    "    def alpha_n(self, u):\n",
    "        return 0.01*(u+55.0)/(1.0 - np.exp(-(u+55.0) / 10.0))\n",
    "\n",
    "    def beta_n(self, u):\n",
    "        return 0.125*np.exp(-(u+65) / 80.0)\n",
    "\n",
    "    def gNa(self, m, h):\n",
    "        return self.gmax_Na*m**3*h\n",
    "\n",
    "    def gK(self, n):\n",
    "        return self.gmax_K*n**4\n",
    "\n",
    "    def gL(self):\n",
    "        return self.gmax_L\n",
    "\n",
    "    def INa(self, m, h, u):\n",
    "        return self.gNa(m, h)*(u - self.ENa)\n",
    "\n",
    "    def IK(self, n, u):\n",
    "        return self.gK(n)*(u - self.EK)\n",
    "\n",
    "    def IL(self, u):\n",
    "        return self.gL()*(u - self.EL)\n",
    "\n",
    "    def n_dot(self, u, n):\n",
    "        return self.alpha_n(u)*(1 - n) - self.beta_n(u)*n\n",
    "\n",
    "    def m_dot(self, u, m):\n",
    "        return self.alpha_m(u)*(1 - m) - self.beta_m(u)*m\n",
    "\n",
    "    def h_dot(self, u, h):\n",
    "        return self.alpha_h(u)*(1 - h) - self.beta_h(u)*h\n",
    "\n",
    "    def u_dot(self, u, m, h, n, I):\n",
    "        return (I - self.INa(m, h, u) - self.IK(n, u) - self.IL(u)) / self.Cm\n",
    "\n",
    "    def simulate(self, t_range, dt, I):\n",
    "        u = np.zeros_like(t_range)\n",
    "        m = np.zeros_like(t_range)\n",
    "        h = np.zeros_like(t_range)\n",
    "        n = np.zeros_like(t_range)\n",
    "\n",
    "        u[0] = self.u_rest\n",
    "        m[0] = self.alpha_m(u[0]) / (self.alpha_m(u[0]) + self.beta_m(u[0]))\n",
    "        h[0] = self.alpha_h(u[0]) / (self.alpha_h(u[0]) + self.beta_h(u[0]))\n",
    "        n[0] = self.alpha_n(u[0]) / (self.alpha_n(u[0]) + self.beta_n(u[0]))\n",
    "\n",
    "        for i in range(len(t_range) - 1):\n",
    "            m[i+1] = m[i] + dt*self.m_dot(u[i], m[i])\n",
    "            h[i+1] = h[i] + dt*self.h_dot(u[i], h[i])\n",
    "            n[i+1] = n[i] + dt*self.n_dot(u[i], n[i])\n",
    "            u[i+1] = u[i] + dt*self.u_dot(u[i], m[i], h[i], n[i], I[i])\n",
    "\n",
    "        return u, m, h, n\n",
    "\n",
    "    def plot_state(self, t, I, X):\n",
    "        fig, ax = plt.subplots(1, 3, figsize=(14, 5))\n",
    "\n",
    "        ax[0].plot(t, I, label='Input current')\n",
    "        ax[0].set_xlabel('Time (ms)')\n",
    "        ax[0].set_ylabel('Current (uA/cm^2)')\n",
    "        ax[0].legend()\n",
    "\n",
    "        ax[1].plot(t, X[0], label='Voltage')\n",
    "        ax[1].set_xlabel('Time (ms)')\n",
    "        ax[1].set_ylabel('Voltage (mV)')\n",
    "        ax[1].legend()\n",
    "\n",
    "        ax[2].plot(t, self.gNa(X[1], X[2]), label='gNa')\n",
    "        ax[2].plot(t, self.gK(X[3]), label='gK')\n",
    "        ax[2].plot(t, self.gL()*np.ones_like(t), label='gL')\n",
    "        ax[2].set_xlabel('Time (ms)')\n",
    "        ax[2].set_ylabel('Conductance (mS/cm^2)')\n",
    "        ax[2].legend()\n",
    "\n",
    "        plt.show()"
   ]
  },
  {
   "cell_type": "code",
   "execution_count": 4,
   "metadata": {},
   "outputs": [],
   "source": [
    "def run_interactive_simulation(input_current):\n",
    "    hh = HH()\n",
    "     \n",
    "    @widgets.interact(\n",
    "        I_amp = widgets.FloatSlider(10., min=0., max=50., step=.5, layout=my_layout),\n",
    "    )\n",
    "\n",
    "    def diff_DC(I_amp):\n",
    "        # Change parameters\n",
    "        I = input_current(t, I_amp)\n",
    "\n",
    "        # Simulation\n",
    "        X = hh.simulate(t, dt, I)\n",
    "\n",
    "        # Plot\n",
    "        with plt.xkcd():\n",
    "            hh.plot_state(t, I, X)"
   ]
  },
  {
   "cell_type": "code",
   "execution_count": 5,
   "metadata": {},
   "outputs": [
    {
     "data": {
      "application/vnd.jupyter.widget-view+json": {
       "model_id": "520a8af0e3174325a6ab37cd35e4398e",
       "version_major": 2,
       "version_minor": 0
      },
      "text/plain": [
       "interactive(children=(FloatSlider(value=10.0, description='I_amp', max=50.0, step=0.5), Output()), _dom_classe…"
      ]
     },
     "metadata": {},
     "output_type": "display_data"
    }
   ],
   "source": [
    "def input_current(t, I_amp=50):\n",
    "    I = np.zeros_like(t)\n",
    "    I[1000:1300] = I_amp\n",
    "    return I\n",
    "    \n",
    "run_interactive_simulation(input_current)"
   ]
  },
  {
   "cell_type": "code",
   "execution_count": null,
   "metadata": {},
   "outputs": [],
   "source": []
  },
  {
   "cell_type": "code",
   "execution_count": null,
   "metadata": {},
   "outputs": [],
   "source": []
  },
  {
   "cell_type": "code",
   "execution_count": null,
   "metadata": {},
   "outputs": [],
   "source": []
  },
  {
   "cell_type": "code",
   "execution_count": null,
   "metadata": {},
   "outputs": [],
   "source": []
  },
  {
   "cell_type": "code",
   "execution_count": null,
   "metadata": {},
   "outputs": [],
   "source": []
  }
 ],
 "metadata": {
  "kernelspec": {
   "display_name": "base",
   "language": "python",
   "name": "python3"
  },
  "language_info": {
   "codemirror_mode": {
    "name": "ipython",
    "version": 3
   },
   "file_extension": ".py",
   "mimetype": "text/x-python",
   "name": "python",
   "nbconvert_exporter": "python",
   "pygments_lexer": "ipython3",
   "version": "3.9.7"
  }
 },
 "nbformat": 4,
 "nbformat_minor": 2
}
